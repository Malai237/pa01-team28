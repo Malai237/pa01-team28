{
 "cells": [
  {
   "cell_type": "markdown",
   "metadata": {},
   "source": [
    "# PA1\n",
    "This Jupyter notebook is for exploring the data set courses20-21.json\n",
    "which consists of all Brandeis courses in the 20-21 academic year (Fall20, Spr21, Sum21) \n",
    "which had at least 1 student enrolled.\n",
    "\n",
    "First we need to read the json file into a list of Python dictionaries"
   ]
  },
  {
   "cell_type": "code",
   "execution_count": null,
   "metadata": {},
   "outputs": [],
   "source": [
    "import json"
   ]
  },
  {
   "cell_type": "code",
   "execution_count": null,
   "metadata": {},
   "outputs": [],
   "source": [
    "with open(\"courses20-21.json\",\"r\",encoding='utf-8') as jsonfile:\n",
    "    courses = json.load(jsonfile)"
   ]
  },
  {
   "cell_type": "markdown",
   "metadata": {},
   "source": [
    "## Structure of a course\n",
    "Next we look at the fields of each course dictionary and their values"
   ]
  },
  {
   "cell_type": "code",
   "execution_count": null,
   "metadata": {},
   "outputs": [],
   "source": [
    "print('there are',len(courses),'courses in the dataset')\n",
    "print('here is the data for course 1246')\n",
    "courses[1246]"
   ]
  },
  {
   "cell_type": "markdown",
   "metadata": {},
   "source": [
    "## Cleaning the data\n",
    "If we want to sort courses by instructor or by code, we need to replace the lists with tuples (which are immutable lists)"
   ]
  },
  {
   "cell_type": "code",
   "execution_count": null,
   "metadata": {},
   "outputs": [],
   "source": [
    "for course in courses:\n",
    "        course['instructor'] = tuple(course['instructor'])\n",
    "        course['coinstructors'] = tuple([tuple(f) for f in course['coinstructors']])\n",
    "        course['code']= tuple(course['code'])"
   ]
  },
  {
   "cell_type": "markdown",
   "metadata": {},
   "source": [
    "### 5a)how many faculty taught COSI courses last year?"
   ]
  },
  {
   "cell_type": "code",
   "execution_count": null,
   "metadata": {},
   "outputs": [],
   "source": [
    "#5a\n",
    "len({course['instructor'] for course in courses if course['subject'] == \"COSI\"})"
   ]
  },
  {
   "cell_type": "markdown",
   "metadata": {},
   "source": [
    "### 5b) What is the total number of students taking COSI courses last year?"
   ]
  },
  {
   "cell_type": "code",
   "execution_count": null,
   "metadata": {},
   "outputs": [],
   "source": [
    "#5b\n",
    "sum([course['enrolled'] for course in courses if course['subject'] == \"COSI\"])"
   ]
  },
  {
   "cell_type": "markdown",
   "metadata": {},
   "source": [
    "### 5c) What was the median size of a COSI course last year (counting only those courses with at least 10 students)"
   ]
  },
  {
   "cell_type": "code",
   "execution_count": null,
   "metadata": {},
   "outputs": [],
   "source": [
    "#5c\n",
    "import numpy as np\n",
    "np.median([course['enrolled'] for course in courses if (course['subject'] == \"COSI\" and course['enrolled'] >= 10)])"
   ]
  },
  {
   "cell_type": "markdown",
   "metadata": {},
   "source": [
    "### 5d) Create a list of tuples (E,S) where S is a subject and E is the number of students enrolled in courses in that subject, sort it and print the top 10. This shows the top 10 subjects in terms of number of students taught.\n"
   ]
  },
  {
   "cell_type": "code",
   "execution_count": null,
   "metadata": {},
   "outputs": [],
   "source": [
    "#5d\n",
    "eslist = []\n",
    "sublist = []\n",
    "for course in courses:\n",
    "    if course['subject'] not in sublist:\n",
    "        sublist.append(course['subject'])\n",
    "for i in range(len(sublist)):\n",
    "    numenrolled = 0\n",
    "    for course in courses:\n",
    "        if course['subject'] == sublist[i]:\n",
    "            numenrolled += course['enrolled']\n",
    "    eslist.append((numenrolled, sublist[i]))\n",
    "    numenrolled = 0\n",
    "print(sorted(eslist, reverse = True)[:10])\n",
    "#for reverse used https://www.geeksforgeeks.org/python-reverse-sort-a-string/"
   ]
  },
  {
   "cell_type": "markdown",
   "metadata": {},
   "source": [
    "### 5e) Do the same as in (d) but print the top 10 subjects in terms of number of courses offered\n"
   ]
  },
  {
   "cell_type": "markdown",
   "metadata": {},
   "source": [
    "### 5f) Do the same as (d) but print the top 10 subjects in terms of number of faculty teaching courses in that subject\n"
   ]
  },
  {
   "cell_type": "markdown",
   "metadata": {},
   "source": [
    "### 5g) list the top 20 faculty in terms of number of students they taught\n"
   ]
  },
  {
   "cell_type": "code",
   "execution_count": null,
   "metadata": {},
   "outputs": [],
   "source": [
    "vals = sorted({(c['instructor']) for c in courses})\n",
    "\n",
    "\n",
    "total_students = [(sum([c['enrolled'] for c in courses if c['instructor']==t]),t)  for t in vals]\n",
    "sorted_students = sorted(total_students,key= lambda course: -course[0])\n",
    "\n",
    "big_class = [course for course in sorted_students[0:20]]\n",
    "answer = sorted({(c[1],c[0]) for c in big_class }, key=lambda x: x[1], reverse = True)\n",
    "answer"
   ]
  },
  {
   "cell_type": "markdown",
   "metadata": {},
   "source": [
    "### 5h) list the top 20 courses in terms of number of students taking that course (where you combine different sections and semesters, i.e. just use the subject and course number)\n"
   ]
  },
  {
   "cell_type": "code",
   "execution_count": null,
   "metadata": {},
   "outputs": [],
   "source": [
    "vals = sorted({(c['name']) for c in courses})\n",
    "\n",
    "\n",
    "total_students = [(sum([c['enrolled'] for c in courses if c['name']==t]),t)  for t in vals]\n",
    "sorted_students = sorted(total_students,key= lambda course: -course[0])\n",
    "\n",
    "biggest_classes = [course for course in sorted_students[0:20]]\n",
    "answer = sorted({(c[1],c[0]) for c in biggest_classes }, key=lambda x: x[1], reverse = True)\n",
    "answer"
   ]
  },
  {
   "cell_type": "markdown",
   "metadata": {},
   "source": [
    "### 5i)Create your own interesting question (each team member creates their own) and use Python to answer that question.\n"
   ]
  },
  {
   "cell_type": "code",
   "execution_count": null,
   "metadata": {},
   "outputs": [],
   "source": [
    "#5i, Connor - Which course sections have a class that starts before 10:00 AM on Mondays?\n",
    "def has_monday_morning_class(course):\n",
    "    for time in course['times']:\n",
    "        if 'm' in time['days'] and time['start'] <= 600:\n",
    "            return True\n",
    "    return False\n",
    "[course['name'] + \" - Section \" + course['section'] for course in courses if has_monday_morning_class(course)]"
   ]
  },
  {
   "cell_type": "code",
   "execution_count": null,
   "metadata": {},
   "outputs": [],
   "source": [
    "#5i, Malai - Which subject had the most amount of students?\n",
    "vals = sorted({(c['subject']) for c in courses})\n",
    "\n",
    "total_students = [(sum([c['enrolled'] for c in courses if c['subject']==t]),t)  for t in vals]\n",
    "sorted_students = sorted(total_students,key= lambda course: -course[0])\n",
    "\n",
    "biggest_classes = [course for course in sorted_students[0:20]]\n",
    "answer = sorted({(c[1],c[0]) for c in biggest_classes }, key=lambda x: x[1], reverse = True)\n",
    "answer"
   ]
  },
  {
   "cell_type": "code",
   "execution_count": null,
   "metadata": {},
   "outputs": [],
   "source": [
    "#5i, Bradley - Which subjects have no courses with a class on a Friday?\n",
    "noFsubs = []\n",
    "for course in courses:\n",
    "    if course['subject'] not in noFsubs:\n",
    "        noFsubs.append(course['subject'])\n",
    "for course in courses:\n",
    "    if course['subject'] in noFsubs:\n",
    "        for time in course['times']:#inspired by Connor's 5i\n",
    "            if 'f' in time['days']:\n",
    "                noFsubs.remove(course['subject'])\n",
    "print(noFsubs)"
   ]
  }
 ],
 "metadata": {
  "kernelspec": {
   "display_name": "Python 3 (ipykernel)",
   "language": "python",
   "name": "python3"
  },
  "language_info": {
   "codemirror_mode": {
    "name": "ipython",
    "version": 3
   },
   "file_extension": ".py",
   "mimetype": "text/x-python",
   "name": "python",
   "nbconvert_exporter": "python",
   "pygments_lexer": "ipython3",
   "version": "3.8.12"
  }
 },
 "nbformat": 4,
 "nbformat_minor": 4
}
